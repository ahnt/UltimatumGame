{
 "cells": [
  {
   "cell_type": "code",
   "execution_count": 1,
   "metadata": {
    "collapsed": false
   },
   "outputs": [
    {
     "name": "stdout",
     "output_type": "stream",
     "text": [
      "Populating the interactive namespace from numpy and matplotlib\n"
     ]
    }
   ],
   "source": [
    "%pylab inline"
   ]
  },
  {
   "cell_type": "code",
   "execution_count": 2,
   "metadata": {
    "collapsed": true
   },
   "outputs": [],
   "source": [
    "from pandas import *\n",
    "import pickle\n"
   ]
  },
  {
   "cell_type": "raw",
   "metadata": {},
   "source": [
    "code to create supplementary information"
   ]
  },
  {
   "cell_type": "code",
   "execution_count": null,
   "metadata": {
    "collapsed": false,
    "scrolled": true
   },
   "outputs": [
    {
     "name": "stdout",
     "output_type": "stream",
     "text": [
      "0\n",
      "1\n",
      "2\n",
      "3\n",
      "4\n",
      "5\n",
      "6\n",
      "7\n",
      "8\n",
      "9\n",
      "10\n",
      "11\n",
      "12\n",
      "13\n",
      "14\n",
      "15\n",
      "16\n",
      "17\n",
      "18\n",
      "19\n",
      "20\n",
      "21\n",
      "22\n",
      "23\n",
      "24\n",
      "25\n",
      "26\n",
      "27\n",
      "28\n",
      "29\n",
      "30\n",
      "31\n",
      "32\n",
      "33\n",
      "34\n",
      "35\n",
      "36\n",
      "37\n",
      "38\n",
      "39\n",
      "40\n",
      "41\n",
      "42\n",
      "43\n",
      "44\n",
      "45\n",
      "46\n",
      "47\n",
      "48\n",
      "49\n",
      "50"
     ]
    }
   ],
   "source": [
    "#laptop path=\"/Users/ArendHintze/Dropbox/CPP_projects/UltimatumGame/UltimatumGame/work/DataUgSTART/\"\n",
    "path=\"/Users/ahintze/Dropbox/CPP_projects/UltimatumGame/UltimatumGame/work/DataUgSTART/\"\n",
    "collector=dict()\n",
    "for s in range(64):\n",
    "    print s\n",
    "    D=[[0.0]*50,[0.0]*50,[0.0]*50,[0.0]*50,[0.0]*50,[0.0]*50]\n",
    "    N=[0]*50\n",
    "    for i in range(100,200):\n",
    "        filename=\"LOD_TAG_START_{0}_0.01_10.0_0.0_{1}.txt\".format(s,i)\n",
    "        data=read_csv(path+filename)\n",
    "        for j in range(len(data)):\n",
    "            t=int(floor(data[\"born\"][j]/100000))\n",
    "            D[0][t]=D[0][t]+data[\"ps\"][j]\n",
    "            D[1][t]=D[1][t]+data[\"qs\"][j]\n",
    "            D[2][t]=D[2][t]+data[\"po\"][j]\n",
    "            D[3][t]=D[3][t]+data[\"qo\"][j]\n",
    "            D[4][t]=D[4][t]+data[\"id\"][j]\n",
    "            D[5][t]=D[5][t]+data[\"th\"][j]\n",
    "            N[t]=N[t]+1\n",
    "    for j in range(len(N)):\n",
    "        for k in range(4):\n",
    "            D[k][j]=D[k][j]/float(N[j])\n",
    "    collector[s]=copy(D)\n",
    "    plot(D[0],D[1])\n",
    "pickle.dump( collector, open( \"all64Start.p\", \"wb\" ) )"
   ]
  },
  {
   "cell_type": "code",
   "execution_count": 10,
   "metadata": {
    "collapsed": false
   },
   "outputs": [
    {
     "name": "stdout",
     "output_type": "stream",
     "text": [
      "0\n",
      "1\n",
      "2\n",
      "3\n",
      "4\n",
      "5\n",
      "6\n",
      "7\n",
      "8\n",
      "9\n",
      "10\n",
      "11\n",
      "12\n",
      "13\n",
      "14\n",
      "15\n",
      "16\n",
      "17\n",
      "18\n",
      "19\n",
      "20\n",
      "21\n",
      "22\n",
      "23\n",
      "24\n",
      "25\n",
      "26\n",
      "27\n",
      "28\n",
      "29\n",
      "30\n",
      "31\n",
      "32\n",
      "33\n",
      "34\n",
      "35\n",
      "36\n",
      "37\n",
      "38\n",
      "39\n",
      "40\n",
      "41\n",
      "42\n",
      "43\n",
      "44\n",
      "45\n",
      "46\n",
      "47\n",
      "48\n",
      "49\n",
      "50\n",
      "51\n",
      "52\n",
      "53\n",
      "54\n",
      "55\n",
      "56\n",
      "57\n",
      "58\n",
      "59\n",
      "60\n",
      "61\n",
      "62\n",
      "63\n"
     ]
    },
    {
     "data": {
      "image/png": "[encoded data removed]",
      "text/plain": [
       "<matplotlib.figure.Figure at 0x10c56a6d0>"
      ]
     },
     "metadata": {},
     "output_type": "display_data"
    }
   ],
   "source": [
    "#laptop path=\"/Users/ArendHintze/Dropbox/CPP_projects/UltimatumGame/UltimatumGame/work/DataUgSTART/\"\n",
    "path=\"/Users/ahintze/Dropbox/CPP_projects/UltimatumGame/UltimatumGame/work/DataUgSTART/\"\n",
    "collector=dict()\n",
    "for s in range(64):\n",
    "    print s\n",
    "    D=[[],[],[],[]]\n",
    "    for i in range(100,200):\n",
    "        filename=\"LOD_TAG_START_{0}_0.01_10.0_0.0_{1}.txt\".format(s,i)\n",
    "        data=read_csv(path+filename)\n",
    "        L=len(data)\n",
    "        columns=[\"ps\",\"qs\",\"po\",\"qo\"]\n",
    "        for j in range(4):\n",
    "            D[j]=D[j]+list(data[columns[j]][int(L*0.5):L])\n",
    "    for k in range(4):\n",
    "        D[k]=mean(D[k])\n",
    "    collector[s]=list(D)\n",
    "    plot(D[0],D[1])\n",
    "pickle.dump( collector, open( \"all64Start.p\", \"wb\" ) )"
   ]
  },
  {
   "cell_type": "code",
   "execution_count": 26,
   "metadata": {
    "collapsed": false
   },
   "outputs": [
    {
     "data": {
      "image/png": "[encoded data removed]",
      "text/plain": [
       "<matplotlib.figure.Figure at 0x123e37490>"
      ]
     },
     "metadata": {},
     "output_type": "display_data"
    }
   ],
   "source": [
    "for c in collector:\n",
    "    plot(collector[c][0],collector[c][1],'.k')\n",
    "    plot(collector[c][2],collector[c][3],'+k')\n",
    "plot([0,0,1,1],[0,1,0,1],'*k')\n",
    "axis([-0.05,1.05,-0.05,1.05])\n",
    "plot([0.1,0.3],[0.1,0.3],':k')\n",
    "xlabel(\"p\")\n",
    "ylabel(\"q\",rotation=0)\n",
    "savefig(\"startConditionIndependence.eps\")"
   ]
  },
  {
   "cell_type": "code",
   "execution_count": 30,
   "metadata": {
    "collapsed": false
   },
   "outputs": [
    {
     "name": "stdout",
     "output_type": "stream",
     "text": [
      "0.001 100\n",
      "0.001 500\n",
      "0.001 1000\n",
      "0.01 100\n",
      "0.01 500\n",
      "0.01 1000\n",
      "0.02 100\n",
      "0.02 500\n",
      "0.02 1000\n"
     ]
    }
   ],
   "source": [
    "#laptop path=\"/Users/ArendHintze/Dropbox/CPP_projects/UltimatumGame/UltimatumGame/work/DataUgSTART/\"\n",
    "path=\"/Users/ahintze/Dropbox/CPP_projects/UltimatumGame/UltimatumGame/work/DataUgEXTRA/\"\n",
    "extraCollector=dict()\n",
    "for my in [0.001,0.01,0.02]:\n",
    "    for popSize in [100,500,1000]:\n",
    "        s=\"{0} {1}\".format(my,popSize)\n",
    "        print s\n",
    "        D=[[],[],[],[]]\n",
    "        for i in range(0,100):\n",
    "            filename=\"LOD_TAG_EXTRA_{0}_{1}_10.0_0.0_{2:03}.txt\".format(popSize,my,i)\n",
    "            data=read_csv(path+filename)\n",
    "            L=len(data)\n",
    "            columns=[\"ps\",\"qs\",\"po\",\"qo\"]\n",
    "            for j in range(4):\n",
    "                D[j]=D[j]+list(data[columns[j]][int(L*0.5):L])\n",
    "        for k in range(4):\n",
    "            D[k]=mean(D[k])\n",
    "        extraCollector[s]=list(D)\n",
    "pickle.dump( collector, open( \"allExtra.p\", \"wb\" ) )"
   ]
  },
  {
   "cell_type": "code",
   "execution_count": 36,
   "metadata": {
    "collapsed": false
   },
   "outputs": [
    {
     "data": {
      "image/png": "[encoded data removed]",
      "text/plain": [
       "<matplotlib.figure.Figure at 0x10e021f50>"
      ]
     },
     "metadata": {},
     "output_type": "display_data"
    }
   ],
   "source": [
    "for my in [0.001,0.01,0.02]:\n",
    "    for popSize in [100,500,1000]:\n",
    "        s=\"{0} {1}\".format(my,popSize)\n",
    "        plot(extraCollector[s][0],extraCollector[s][1],'.k')\n",
    "        plot(extraCollector[s][2],extraCollector[s][3],'+k')\n",
    "        axis([-0.05,1.05,-0.05,1.05])\n",
    "        xlabel(\"p\")\n",
    "        ylabel(\"q\",rotation=0)\n",
    "        savefig(\"myNIndependence.eps\")"
   ]
  },
  {
   "cell_type": "code",
   "execution_count": 32,
   "metadata": {
    "collapsed": false
   },
   "outputs": [
    {
     "data": {
      "text/plain": [
       "[0.15494078574707851,\n",
       " 0.13282105271744588,\n",
       " 0.41894187632138435,\n",
       " 0.5299644992542123]"
      ]
     },
     "execution_count": 32,
     "metadata": {},
     "output_type": "execute_result"
    }
   ],
   "source": [
    "extraCollector['0.02 500']"
   ]
  },
  {
   "cell_type": "code",
   "execution_count": null,
   "metadata": {
    "collapsed": true
   },
   "outputs": [],
   "source": []
  }
 ],
 "metadata": {
  "kernelspec": {
   "display_name": "Python 3",
   "language": "python",
   "name": "python3"
  },
  "language_info": {
   "codemirror_mode": {
    "name": "ipython",
    "version": 3
   },
   "file_extension": ".py",
   "mimetype": "text/x-python",
   "name": "python",
   "nbconvert_exporter": "python",
   "pygments_lexer": "ipython3",
   "version": "3.5.1"
  }
 },
 "nbformat": 4,
 "nbformat_minor": 0
}
