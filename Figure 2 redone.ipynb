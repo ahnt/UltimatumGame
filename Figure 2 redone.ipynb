{
 "cells": [
  {
   "cell_type": "code",
   "execution_count": 1,
   "metadata": {
    "collapsed": false
   },
   "outputs": [
    {
     "name": "stdout",
     "output_type": "stream",
     "text": [
      "Populating the interactive namespace from numpy and matplotlib\n"
     ]
    }
   ],
   "source": [
    "%pylab inline"
   ]
  },
  {
   "cell_type": "code",
   "execution_count": 2,
   "metadata": {
    "collapsed": true
   },
   "outputs": [],
   "source": [
    "from pandas import *"
   ]
  },
  {
   "cell_type": "code",
   "execution_count": 3,
   "metadata": {
    "collapsed": false
   },
   "outputs": [
    {
     "name": "stdout",
     "output_type": "stream",
     "text": [
      "(1.0367568385224391, 4.9632431614775605)\n"
     ]
    }
   ],
   "source": [
    "import numpy as np\n",
    "import scipy.stats as st\n",
    "\n",
    "# returns confidence interval of mean\n",
    "def confIntMean(a, conf=0.95):\n",
    "    mean, sem, m = np.mean(a), st.sem(a), st.t.ppf((1+conf)/2., len(a)-1)\n",
    "    return mean - m*sem, mean + m*sem\n",
    "\n",
    "print (confIntMean([1,2,3,4,5],conf=0.95))"
   ]
  },
  {
   "cell_type": "code",
   "execution_count": 28,
   "metadata": {
    "collapsed": false
   },
   "outputs": [
    {
     "name": "stdout",
     "output_type": "stream",
     "text": [
      "[0.49123098725995556, 0.45624567088847373, 0.46521071512232154, 0.51392023676747733, 0.51157625977384613]\n",
      "[1.0, 1.0, 1.0, 1.0, 1.0]\n"
     ]
    },
    {
     "data": {
      "image/png": "[encoded data removed]",
      "text/plain": [
       "<matplotlib.figure.Figure at 0x113f316a0>"
      ]
     },
     "metadata": {},
     "output_type": "display_data"
    }
   ],
   "source": [
    "import numpy as np\n",
    "import scipy.stats as ss\n",
    "U=0.01;\n",
    "Ws=(0.1,0.5,1.0,5.0,10.0)\n",
    "#Fs=(0.1,0.5,1.0)\n",
    "F=0.1\n",
    "THs=(0.0,1.0)\n",
    "anz=200\n",
    "targetGen=4900000\n",
    "figure(num=None, figsize=(5,5), dpi=80, facecolor='w', edgecolor='k')\n",
    "#    subplots_adjust(wspace=.25)\n",
    "#    subplots_adjust(hspace=.25) \n",
    "THA=dict()\n",
    "for TH in THs:\n",
    "    psa=[]\n",
    "    qsa=[]\n",
    "    poa=[]\n",
    "    qoa=[]\n",
    "    pse=[]\n",
    "    qse=[]\n",
    "    poe=[]\n",
    "    qoe=[]\n",
    "    psci=[]\n",
    "    qsci=[]\n",
    "    poci=[]\n",
    "    qoci=[]\n",
    "    psv=[]\n",
    "    qsv=[]\n",
    "    pov=[]\n",
    "    qov=[]\n",
    "    psd=[]\n",
    "    qsd=[]\n",
    "    pod=[]\n",
    "    qod=[]\n",
    "    ida=[]\n",
    "    tha=[]\n",
    "    idv=[]\n",
    "    thv=[]\n",
    "    ide=[]\n",
    "    the=[]\n",
    "    vpo=[]\n",
    "    vqo=[]\n",
    "    for W in Ws:\n",
    "        PS_LOD=[];\n",
    "        QS_LOD=[];\n",
    "        PO_LOD=[];\n",
    "        QO_LOD=[];\n",
    "        ID_LOD=[];\n",
    "        TH_LOD=[];\n",
    "        actAnz=anz;\n",
    "        for N in range(0,anz):\n",
    "#            filename=\"/Users/ahintze/Science/UltimatumGame/work/dataTag/LOD_TAG_{0:0.02f}_{1:0.01f}_{2:0.01f}_{3:03d}.txt\".format(U,W,TH,N)\n",
    "            filename=\"/Users/ArendHintze/Science/UltimatumGame/work/dataTag/LOD_TAG_{0:0.02f}_{1:0.01f}_{2:0.01f}_{3:03d}.txt\".format(U,W,TH,N)\n",
    "#            filename=\"/Users/arendhintze/iPhone/Science/tarnitaUltimatumGame/work/dataTag/LOD_TAG_{0:0.02f}_{1:0.01f}_{2:0.01f}_{3:03d}.txt\".format(U,W,TH,N)\n",
    "            #filename=\"/Users/arendhintze/iPhone/Science/tarnitaUltimatumGame/work/dataTag/LOD_TAG_{0:0.02f}_{1:0.01f}_{2:0.01f}_{4:0.1f}_{3:03d}.txt\".format(U,W,F,N,TH)\n",
    "            try:\n",
    "                data=read_csv(filename, sep=\",\",na_values=[\"\",\" \"])\n",
    "                PS_LOD=concatenate([PS_LOD,data['ps']])\n",
    "                QS_LOD=concatenate([QS_LOD,data['qs']])\n",
    "                PO_LOD=concatenate([PO_LOD,data['po']])\n",
    "                QO_LOD=concatenate([QO_LOD,data['qo']])\n",
    "                ID_LOD=concatenate([ID_LOD,data['id']])\n",
    "                TH_LOD=concatenate([TH_LOD,data['th']])\n",
    "            except Exception:\n",
    "                print (\"missing file: \"+filename)\n",
    "                actAnz=actAnz-1\n",
    "        psa.append(mean(PS_LOD))\n",
    "        qsa.append(mean(QS_LOD))\n",
    "        poa.append(mean(PO_LOD))\n",
    "        qoa.append(mean(QO_LOD))\n",
    "        ida.append(mean(ID_LOD))\n",
    "        tha.append(mean(TH_LOD))\n",
    "        pse.append(std(PS_LOD)/sqrt(float(len(PS_LOD))))\n",
    "        qse.append(std(QS_LOD)/sqrt(float(len(QS_LOD))))\n",
    "        poe.append(std(PO_LOD)/sqrt(float(len(PO_LOD))))\n",
    "        qoe.append(std(QO_LOD)/sqrt(float(len(QO_LOD))))\n",
    "        ide.append(std(ID_LOD)/sqrt(float(len(ID_LOD))))\n",
    "        the.append(std(TH_LOD)/sqrt(float(len(TH_LOD))))\n",
    "        psci.append(confIntMean(PS_LOD,conf=0.95)[0])\n",
    "        qsci.append(confIntMean(QS_LOD,conf=0.95)[0])\n",
    "        poci.append(confIntMean(PO_LOD,conf=0.95)[0])\n",
    "        qoci.append(confIntMean(QO_LOD,conf=0.95)[0])\n",
    "        psv.append(var(PS_LOD))\n",
    "        qsv.append(var(QS_LOD))\n",
    "        pov.append(var(PO_LOD))\n",
    "        qov.append(var(QO_LOD))        \n",
    "        psd.append(std(PS_LOD))\n",
    "        qsd.append(std(QS_LOD))\n",
    "        pod.append(std(PO_LOD))\n",
    "        qod.append(std(QO_LOD))\n",
    "        vpo.append(var(PO_LOD))\n",
    "        vqo.append(var(QO_LOD))\n",
    "        THA[\"{0} {1}\".format(W,TH)]=TH_LOD\n",
    "    #subplot(1,3,1)\n",
    "    L=[]\n",
    "    for w in Ws:\n",
    "        L.append(str(w))\n",
    "    xticks(range(0,len(Ws)),L,fontsize=12)\n",
    "    axis((-1.0,len(Ws),0.0,0.75))\n",
    "    #title('TH: '+str(TH))\n",
    "    ylabel('Strategy vector mean',fontsize=12)\n",
    "    xlabel('Selection strength w',fontsize=12)\n",
    "    if (TH==0.0):\n",
    "        errorbar(range(0,len(Ws)),psa,pse,fmt=':k',label=r\"$\\mathit{offer}_{kin}$\",linewidth=2)\n",
    "        errorbar(range(0,len(Ws)),qsa,qse,fmt=':r',label=r\"$\\mathit{demand}_{kin}$\",linewidth=2)\n",
    "        errorbar(range(0,len(Ws)),poa,poe,fmt='k',label=r\"$\\mathit{offer}_{other}$\",linewidth=2)\n",
    "        errorbar(range(0,len(Ws)),qoa,qoe,fmt='r',label=r\"$\\mathit{demand}_{other}$\",linewidth=2)\n",
    "        #errorbar(range(0,len(Ws)),tha,the,fmt='b')\n",
    "        #errorbar(range(0,len(Ws)),ida,ide,fmt='g')\n",
    "#        errorbar(range(0,len(Ws)),psa,psv,fmt=':k')\n",
    "#        errorbar(range(0,len(Ws)),qsa,qsv,fmt=':r')\n",
    "#        errorbar(range(0,len(Ws)),poa,pov,fmt='k')\n",
    "#        errorbar(range(0,len(Ws)),qoa,qov,fmt='r')\n",
    "#        errorbar(range(0,len(Ws)),psa,psci,fmt=':k')\n",
    "#        errorbar(range(0,len(Ws)),qsa,qsci,fmt=':r')\n",
    "#        errorbar(range(0,len(Ws)),poa,poci,fmt='k')\n",
    "#        errorbar(range(0,len(Ws)),qoa,qoci,fmt='r')\n",
    "        #errorbar(range(0,len(Ws)),psa,psd,fmt=':k')\n",
    "        #errorbar(range(0,len(Ws)),qsa,qsd,fmt=':r')\n",
    "        #errorbar(range(0,len(Ws)),poa,pod,fmt='k')\n",
    "        #errorbar(range(0,len(Ws)),qoa,qod,fmt='r')\n",
    "\n",
    "#        plot(range(0,len(Ws)),psa,':k')\n",
    "#        plot(range(0,len(Ws)),qsa,':r')\n",
    "#        plot(range(0,len(Ws)),poa,'k')\n",
    "#        plot(range(0,len(Ws)),qoa,'r')\n",
    "    else:\n",
    "        errorbar(range(0,len(Ws)),psa,pse,fmt='--k',label=r\"$\\mathit{offer}$\",linewidth=2)\n",
    "        errorbar(range(0,len(Ws)),qsa,qse,fmt='--r',label=r\"$\\mathit{demand}$\",linewidth=2)\n",
    "#        plot(range(0,len(Ws)),ida,'--b')\n",
    "#        plot(range(0,len(Ws)),tha,'--g')\n",
    "#        errorbar(range(0,len(Ws)),psa,psv,fmt='--k')\n",
    "#        errorbar(range(0,len(Ws)),qsa,qsv,fmt='--r')\n",
    "#        errorbar(range(0,len(Ws)),psa,psci,fmt='--k')\n",
    "#        errorbar(range(0,len(Ws)),qsa,qsci,fmt='--r')\n",
    "        #errorbar(range(0,len(Ws)),psa,psd,fmt='--k')\n",
    "        #errorbar(range(0,len(Ws)),qsa,qsd,fmt='--r')\n",
    "#        plot(range(0,len(Ws)),psa,'--k')\n",
    "#       plot(range(0,len(Ws)),qsa,'--r')\n",
    "        #plot(range(0,len(Ws)),poa,'k')\n",
    "        #plot(range(0,len(Ws)),qoa,'r')\n",
    "    print(tha)\n",
    "legend(loc=\"upper center\",fontsize=10,ncol=2)\n",
    "    #subplot(1,3,2)\n",
    "    #plot(range(0,len(Ws)),tha,'black')\n",
    "    #plot(range(0,len(Ws)),ida,'red')\n",
    "    #xticks(range(0,len(Ws)),L)\n",
    "    #title('TH: '+str(TH))\n",
    "    #axis((-1.0,len(Ws),0.0,1.00))\n",
    "    #subplot(1,3,3)\n",
    "    #plot(range(0,len(Ws)),vpo,'black')\n",
    "    #plot(range(0,len(Ws)),vqo,'red')\n",
    "    #xticks(range(0,len(Ws)),L)\n",
    "    #title('TH: '+str(TH))\n",
    "#    axis((-1.0,len(Ws),0.0,1.00))\n",
    "#    subplot(1,3,3)\n",
    "#    imshow(R,interpolation='nearest',cmap='bone')\n",
    "#    colorbar() \n",
    "savefig('comparisonTagNoTag.pdf')\n",
    "savefig('comparisonTagNoTag.eps')"
   ]
  },
  {
   "cell_type": "raw",
   "metadata": {},
   "source": [
    "code to plot figure 3\n"
   ]
  },
  {
   "cell_type": "code",
   "execution_count": 74,
   "metadata": {
    "collapsed": false,
    "scrolled": false
   },
   "outputs": [
    {
     "name": "stderr",
     "output_type": "stream",
     "text": [
      "/Users/ArendHintze/miniconda2/envs/py3/lib/python3.5/site-packages/matplotlib/figure.py:1744: UserWarning: This figure includes Axes that are not compatible with tight_layout, so its results might be incorrect.\n",
      "  warnings.warn(\"This figure includes Axes that are not \"\n"
     ]
    },
    {
     "data": {
      "image/png": "[encoded data removed]",
      "text/plain": [
       "<matplotlib.figure.Figure at 0x113874c18>"
      ]
     },
     "metadata": {},
     "output_type": "display_data"
    }
   ],
   "source": [
    "M=[]\n",
    "N=20\n",
    "u=1\n",
    "figure(figsize=[7,2.5],tight_layout=True)\n",
    "for TH in [0.0]:\n",
    "    for W in Ws:\n",
    "        X,Y=histogram(THA[\"{0} {1}\".format(W,TH)],linspace(0.0,1.0,N+1))\n",
    "        subplot(1,5,u)\n",
    "        bar(range(N),numpy.array(X)/sum(X),color=\"k\")\n",
    "        xticks([0,5,10,15,20],[\"0.0\",\"0.25\",\"0.5\",\"0.75\",\"1.0\"],rotation=70)\n",
    "        title(\"w = \"+str(W))\n",
    "        if(u==1):\n",
    "            yticks([0,0.04,0.08,0.12],['0.0','0.04','0.08','0.12'])\n",
    "            ylabel(\"p(t)\")\n",
    "        else:\n",
    "            yticks([0,0.04,0.08,0.12],[\"\",\"\",\"\",\"\"])\n",
    "        xlabel(\"Threshold\")\n",
    "        axis([0,N,0,0.15])\n",
    "        M.append(mean(THA[\"{0} {1}\".format(W,TH)]))\n",
    "        u=u+1\n",
    "savefig(\"thresholds.pdf\")\n",
    "savefig(\"thresholds.eps\")\n",
    "\n",
    "#figure()\n",
    "#plot(M)"
   ]
  },
  {
   "cell_type": "code",
   "execution_count": null,
   "metadata": {
    "collapsed": true
   },
   "outputs": [],
   "source": []
  }
 ],
 "metadata": {
  "kernelspec": {
   "display_name": "Python 3",
   "language": "python",
   "name": "python3"
  },
  "language_info": {
   "codemirror_mode": {
    "name": "ipython",
    "version": 3
   },
   "file_extension": ".py",
   "mimetype": "text/x-python",
   "name": "python",
   "nbconvert_exporter": "python",
   "pygments_lexer": "ipython3",
   "version": "3.5.1"
  }
 },
 "nbformat": 4,
 "nbformat_minor": 0
}
